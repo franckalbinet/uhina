{
 "cells": [
  {
   "cell_type": "markdown",
   "metadata": {},
   "source": [
    "# Kernel-based methods\n",
    "\n",
    "> LS-SVM, Nystroem, Random Fourier Features, Gaussian Processes, ..."
   ]
  },
  {
   "cell_type": "code",
   "execution_count": 1,
   "metadata": {},
   "outputs": [],
   "source": [
    "#| default_exp kernels"
   ]
  },
  {
   "cell_type": "code",
   "execution_count": 11,
   "metadata": {},
   "outputs": [],
   "source": [
    "#| export\n",
    "# from fastai.data.all import *\n",
    "# from fastai.vision.all import *\n",
    "from pathlib import Path\n",
    "import numpy as np\n",
    "from sklearn.metrics.pairwise import rbf_kernel"
   ]
  },
  {
   "cell_type": "code",
   "execution_count": 8,
   "metadata": {},
   "outputs": [],
   "source": [
    "from uhina.loading import LoaderFactory"
   ]
  },
  {
   "cell_type": "code",
   "execution_count": 9,
   "metadata": {},
   "outputs": [
    {
     "name": "stdout",
     "output_type": "stream",
     "text": [
      "X shape: (1400, 1676)\n"
     ]
    }
   ],
   "source": [
    "src = Path.home() / 'pro/data/woodwell-ringtrial/drive-download-20231013T123706Z-001'\n",
    "loader = LoaderFactory.get_loader(src, 'ringtrial')\n",
    "data = loader.load_data(analytes='potassium_cmolkg')\n",
    "print(f'X shape: {data.X.shape}')"
   ]
  },
  {
   "cell_type": "code",
   "execution_count": 10,
   "metadata": {},
   "outputs": [],
   "source": [
    "X_subset = data.X[:10, :]"
   ]
  },
  {
   "cell_type": "code",
   "execution_count": 14,
   "metadata": {},
   "outputs": [
    {
     "data": {
      "text/plain": [
       "(10, 10)"
      ]
     },
     "execution_count": 14,
     "metadata": {},
     "output_type": "execute_result"
    }
   ],
   "source": [
    "rbf_kernel(X_subset, X_subset).shape"
   ]
  },
  {
   "cell_type": "code",
   "execution_count": 39,
   "metadata": {},
   "outputs": [
    {
     "name": "stdout",
     "output_type": "stream",
     "text": [
      "default gamma: 0.0005966587112171838\n"
     ]
    },
    {
     "data": {
      "text/plain": [
       "0.001"
      ]
     },
     "execution_count": 39,
     "metadata": {},
     "output_type": "execute_result"
    }
   ],
   "source": [
    "# high gamma -> more peaked\n",
    "gamma = 1/data.X.shape[1]\n",
    "print(f'default gamma: {gamma}')\n",
    "gamma = 1/1000; gamma"
   ]
  },
  {
   "cell_type": "code",
   "execution_count": 40,
   "metadata": {},
   "outputs": [
    {
     "data": {
      "text/plain": [
       "0.7570720129394493"
      ]
     },
     "execution_count": 40,
     "metadata": {},
     "output_type": "execute_result"
    }
   ],
   "source": [
    "# as gamma increase further points are considered more similar\n",
    "np.exp(-gamma * np.sum((X_subset[0,:] - data.X[2, :])**2))"
   ]
  },
  {
   "cell_type": "code",
   "execution_count": 20,
   "metadata": {},
   "outputs": [
    {
     "data": {
      "text/plain": [
       "array([1.        , 0.8314899 , 0.84700535, 0.97625302, 0.97344528,\n",
       "       0.97546673, 0.97930349, 0.8925589 , 0.67826745, 0.97892596])"
      ]
     },
     "execution_count": 20,
     "metadata": {},
     "output_type": "execute_result"
    }
   ],
   "source": [
    "rbf_kernel(X_subset, X_subset)[0,:]"
   ]
  },
  {
   "cell_type": "code",
   "execution_count": null,
   "metadata": {},
   "outputs": [],
   "source": []
  },
  {
   "cell_type": "code",
   "execution_count": 41,
   "metadata": {},
   "outputs": [],
   "source": [
    "def nystrom_approximation(X, n_components, gamma=None):\n",
    "    \"\"\"\n",
    "    Compute Nyström approximation for the given data.\n",
    "    \n",
    "    Args:\n",
    "    X (np.array): Input data of shape (n_samples, n_features)\n",
    "    n_components (int): Number of components to use for approximation\n",
    "    gamma (float): Parameter for RBF kernel. If None, 1/n_features will be used.\n",
    "    \n",
    "    Returns:\n",
    "    np.array: Nyström approximation of X\n",
    "    \"\"\"\n",
    "    n_samples, n_features = X.shape\n",
    "    \n",
    "    # Randomly select subset of samples\n",
    "    idx = np.random.choice(n_samples, n_components, replace=False)\n",
    "    X_subset = X[idx]\n",
    "    \n",
    "    # Compute kernel between subset and all samples\n",
    "    K_nm = rbf_kernel(X, X_subset, gamma=gamma)\n",
    "    \n",
    "    # Compute kernel for subset\n",
    "    K_mm = K_nm[idx]\n",
    "    \n",
    "    # Compute eigendecomposition of K_mm\n",
    "    eigvals, eigvecs = np.linalg.eigh(K_mm)\n",
    "    \n",
    "    # Avoid division by zero\n",
    "    eigvals = np.maximum(eigvals, 1e-12)\n",
    "    \n",
    "    # Compute approximation\n",
    "    tmp = np.dot(eigvecs / np.sqrt(eigvals), eigvecs.T)\n",
    "    approx = np.sqrt(n_samples / n_components) * np.dot(K_nm, tmp)\n",
    "    \n",
    "    return approx"
   ]
  },
  {
   "cell_type": "code",
   "execution_count": 42,
   "metadata": {},
   "outputs": [
    {
     "name": "stdout",
     "output_type": "stream",
     "text": [
      "Original shape: (1400, 1676)\n",
      "Nyström approximation shape: (1400, 50)\n"
     ]
    }
   ],
   "source": [
    "# Toy example using 1D soil spectra\n",
    "# np.random.seed(42)\n",
    "# Generate synthetic 1D soil spectra\n",
    "n_samples = 1000\n",
    "\n",
    "# n_wavelengths = 200\n",
    "# X = np.random.rand(n_samples, n_wavelengths)\n",
    "\n",
    "X = data.X\n",
    "\n",
    "# Apply some transformations to make it more \"spectrum-like\"\n",
    "# X = np.cumsum(X, axis=1)  # Make it monotonically increasing\n",
    "# X += np.random.normal(0, 0.1, X.shape)  # Add some noise\n",
    "\n",
    "# Compute Nyström approximation\n",
    "n_components = 50\n",
    "X_nystrom = nystrom_approximation(X, n_components)\n",
    "\n",
    "print(f\"Original shape: {X.shape}\")\n",
    "print(f\"Nyström approximation shape: {X_nystrom.shape}\")"
   ]
  },
  {
   "cell_type": "code",
   "execution_count": null,
   "metadata": {},
   "outputs": [],
   "source": [
    "\n",
    "# Plot original spectra and their Nyström approximation\n",
    "import matplotlib.pyplot as plt\n",
    "\n",
    "plt.figure(figsize=(12, 6))\n",
    "\n",
    "plt.subplot(1, 2, 1)\n",
    "plt.title(\"Original Spectra\")\n",
    "plt.plot(X[:5].T)\n",
    "plt.xlabel(\"Wavelength\")\n",
    "plt.ylabel(\"Intensity\")\n",
    "\n",
    "plt.subplot(1, 2, 2)\n",
    "plt.title(\"Nyström Approximation\")\n",
    "plt.plot(X_nystrom[:5].T)\n",
    "plt.xlabel(\"Component\")\n",
    "plt.ylabel(\"Value\")\n",
    "\n",
    "plt.tight_layout()\n",
    "plt.show()\n"
   ]
  },
  {
   "cell_type": "code",
   "execution_count": null,
   "metadata": {},
   "outputs": [],
   "source": [
    "import numpy as np\n",
    "from sklearn.metrics.pairwise import rbf_kernel\n",
    "from sklearn.model_selection import train_test_split\n",
    "import matplotlib.pyplot as plt\n",
    "\n",
    "def LS_SVM(X, y, gamma=0.1, C=1.0):\n",
    "    \"\"\"\n",
    "    Least Squares Support Vector Machine for regression\n",
    "    \n",
    "    Args:\n",
    "    X (np.array): Input features of shape (n_samples, n_features)\n",
    "    y (np.array): Target values of shape (n_samples,)\n",
    "    gamma (float): RBF kernel parameter\n",
    "    C (float): Regularization parameter\n",
    "    \n",
    "    Returns:\n",
    "    tuple: (alpha, b) where alpha are the Lagrange multipliers and b is the bias term\n",
    "    \"\"\"\n",
    "    n_samples = X.shape[0]\n",
    "    \n",
    "    # Compute the kernel matrix\n",
    "    K = rbf_kernel(X, X, gamma=gamma)\n",
    "    \n",
    "    # Compute the solution\n",
    "    H = K + np.eye(n_samples) / C\n",
    "    H_inv = np.linalg.inv(H)\n",
    "    alpha = H_inv.dot(y)\n",
    "    b = np.mean(y - K.dot(alpha))\n",
    "    \n",
    "    return alpha, b\n",
    "\n",
    "def predict_LS_SVM(X_train, X_test, alpha, b, gamma=0.1):\n",
    "    \"\"\"\n",
    "    Make predictions using the trained LS-SVM model\n",
    "    \"\"\"\n",
    "    K = rbf_kernel(X_test, X_train, gamma=gamma)\n",
    "    return K.dot(alpha) + b\n",
    "\n",
    "# Generate toy 1D spectral data\n",
    "np.random.seed(42)\n",
    "n_samples = 100\n",
    "n_wavelengths = 50\n",
    "\n",
    "# Generate wavelengths\n",
    "wavelengths = np.linspace(400, 2400, n_wavelengths)\n",
    "\n",
    "# Generate synthetic spectra\n",
    "X = np.random.rand(n_samples, n_wavelengths)\n",
    "X = np.cumsum(X, axis=1)  # Make it monotonically increasing\n",
    "X += np.random.normal(0, 0.1, X.shape)  # Add some noise\n",
    "\n",
    "# Generate target values (e.g., concentration of a chemical)\n",
    "y = 3 * np.sin(X[:, 10]) + 2 * np.exp(-X[:, 30]) + np.random.normal(0, 0.1, n_samples)\n",
    "\n",
    "# Split the data\n",
    "X_train, X_test, y_train, y_test = train_test_split(X, y, test_size=0.2, random_state=42)\n",
    "\n",
    "# Train LS-SVM\n",
    "alpha, b = LS_SVM(X_train, y_train, gamma=0.1, C=1.0)\n",
    "\n",
    "# Make predictions\n",
    "y_pred = predict_LS_SVM(X_train, X_test, alpha, b, gamma=0.1)\n",
    "\n",
    "# Calculate RMSE\n",
    "rmse = np.sqrt(np.mean((y_test - y_pred)**2))\n",
    "print(f\"Root Mean Squared Error: {rmse:.4f}\")\n",
    "\n",
    "# Plot results\n",
    "plt.figure(figsize=(12, 4))\n",
    "\n",
    "# Plot example spectra\n",
    "plt.subplot(121)\n",
    "plt.title(\"Example Spectra\")\n",
    "plt.plot(wavelengths, X_train[:5].T)\n",
    "plt.xlabel(\"Wavelength (nm)\")\n",
    "plt.ylabel(\"Intensity\")\n",
    "\n",
    "# Plot true vs predicted values\n",
    "plt.subplot(122)\n",
    "plt.title(\"True vs Predicted Values\")\n",
    "plt.scatter(y_test, y_pred)\n",
    "plt.plot([y_test.min(), y_test.max()], [y_test.min(), y_test.max()], 'r--', lw=2)\n",
    "plt.xlabel(\"True Values\")\n",
    "plt.ylabel(\"Predicted Values\")\n",
    "\n",
    "plt.tight_layout()\n",
    "plt.show()  "
   ]
  }
 ],
 "metadata": {
  "kernelspec": {
   "display_name": "python3",
   "language": "python",
   "name": "python3"
  },
  "language_info": {
   "codemirror_mode": {
    "name": "ipython",
    "version": 3
   },
   "file_extension": ".py",
   "mimetype": "text/x-python",
   "name": "python",
   "nbconvert_exporter": "python",
   "pygments_lexer": "ipython3",
   "version": "3.12.6"
  }
 },
 "nbformat": 4,
 "nbformat_minor": 4
}
