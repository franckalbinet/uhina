{
 "cells": [
  {
   "cell_type": "markdown",
   "metadata": {},
   "source": [
    "# Uhina"
   ]
  },
  {
   "cell_type": "markdown",
   "metadata": {},
   "source": [
    "\n",
    "> Converts 1D infrared spectra to 2D (Continuous Wavelet Transform) representations."
   ]
  },
  {
   "cell_type": "markdown",
   "metadata": {},
   "source": [
    "## Developer Guide"
   ]
  },
  {
   "cell_type": "markdown",
   "metadata": {},
   "source": [
    "If you are new to using `nbdev` here are some useful pointers to get you started."
   ]
  },
  {
   "cell_type": "markdown",
   "metadata": {},
   "source": [
    "### Install uhina in Development mode"
   ]
  },
  {
   "cell_type": "markdown",
   "metadata": {},
   "source": [
    "```sh\n",
    "# make sure uhina package is installed in development mode\n",
    "$ pip install -e .\n",
    "\n",
    "# make changes under nbs/ directory\n",
    "# ...\n",
    "\n",
    "# compile to have changes apply to uhina\n",
    "$ nbdev_prepare\n",
    "```"
   ]
  },
  {
   "cell_type": "markdown",
   "metadata": {},
   "source": [
    "## Usage"
   ]
  },
  {
   "cell_type": "markdown",
   "metadata": {},
   "source": [
    "### Installation"
   ]
  },
  {
   "cell_type": "markdown",
   "metadata": {},
   "source": [
    "Install latest from the GitHub [repository][repo]:\n",
    "\n",
    "```sh\n",
    "$ pip install git+https://github.com/franckalbinet/uhina.git\n",
    "```\n",
    "\n",
    "or from [pypi][pypi]\n",
    "\n",
    "\n",
    "```sh\n",
    "$ pip install uhina\n",
    "```\n",
    "\n",
    "\n",
    "[repo]: https://github.com/franckalbinet/uhina\n",
    "[docs]: https://franckalbinet.github.io/uhina/\n",
    "[pypi]: https://pypi.org/project/uhina/"
   ]
  },
  {
   "cell_type": "markdown",
   "metadata": {},
   "source": [
    "### Documentation"
   ]
  },
  {
   "cell_type": "markdown",
   "metadata": {},
   "source": [
    "Documentation can be found hosted on this GitHub [repository][repo]'s [pages][docs]. Additionally you can find package manager specific guidelines o [pypi][pypi] respectively.\n",
    "\n",
    "[repo]: https://github.com/franckalbinet/uhina\n",
    "[docs]: https://franckalbinet.github.io/uhina/\n",
    "[pypi]: https://pypi.org/project/uhina/"
   ]
  },
  {
   "cell_type": "markdown",
   "metadata": {},
   "source": [
    "## How to use"
   ]
  },
  {
   "cell_type": "markdown",
   "metadata": {},
   "source": [
    "\n",
    "```bash\n",
    "usage: uh [-h] [--img_dir IMG_DIR] [--dataset DATASET] [--spectra_type SPECTRA_TYPE] [--analytes ANALYTES] [--n_samples N_SAMPLES] [--batch_size BATCH_SIZE]\n",
    "          src dir_out\n",
    "\n",
    "Convert spectra to wavelet images.\n",
    "\n",
    "positional arguments:\n",
    "  src                          Source file\n",
    "  dir_out                      Output root directory\n",
    "\n",
    "options:\n",
    "  -h, --help                   show this help message and exit\n",
    "  --img_dir IMG_DIR            Image directory (default: img)\n",
    "  --dataset DATASET            Dataset to use (default: ossl)\n",
    "  --spectra_type SPECTRA_TYPE  Spectra type to use (default: mir)\n",
    "  --analytes ANALYTES          Analytes to use (default: k.ext_usda.a725_cmolc.kg)\n",
    "  --n_samples N_SAMPLES        Number of samples to use\n",
    "  --batch_size BATCH_SIZE      Batch size to use (default: 10)"
   ]
  }
 ],
 "metadata": {
  "kernelspec": {
   "display_name": "python3",
   "language": "python",
   "name": "python3"
  }
 },
 "nbformat": 4,
 "nbformat_minor": 4
}
