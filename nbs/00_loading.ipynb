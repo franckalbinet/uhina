{
 "cells": [
  {
   "cell_type": "markdown",
   "metadata": {},
   "source": [
    "# Loading\n",
    "\n",
    "> Load data from spectral libraries."
   ]
  },
  {
   "cell_type": "code",
   "execution_count": null,
   "metadata": {},
   "outputs": [],
   "source": [
    "#| default_exp loading"
   ]
  },
  {
   "cell_type": "code",
   "execution_count": null,
   "metadata": {},
   "outputs": [],
   "source": [
    "#| export\n",
    "import fastcore.all as fc\n",
    "from fastcore.basics import patch\n",
    "import pandas as pd\n",
    "from pathlib import Path\n",
    "from sklearn.preprocessing import LabelEncoder\n",
    "import numpy as np\n",
    "import re"
   ]
  },
  {
   "cell_type": "code",
   "execution_count": null,
   "metadata": {},
   "outputs": [],
   "source": [
    "#| exports\n",
    "fname_ossl = Path.home() / '.lssm/data/ossl/ossl_all_L0_v1.2.csv.gz'"
   ]
  },
  {
   "cell_type": "code",
   "execution_count": null,
   "metadata": {},
   "outputs": [],
   "source": [
    "#| exports\n",
    "class OSSLLoader:\n",
    "    \"Load OSSL data and filter it by spectra type and analytes of interest.\"\n",
    "    DTYPE_DICT = {\n",
    "        'id.layer_local_c': 'object',\n",
    "        'id.location_olc_txt': 'object',\n",
    "        'id.dataset.site_ascii_txt': 'object',\n",
    "        'id.scan_local_c': 'object',\n",
    "        'layer.texture_usda_txt': 'object',\n",
    "        'pedon.taxa_usda_txt': 'object',\n",
    "        'horizon.designation_usda_txt': 'object',\n",
    "        'location.country_iso.3166_txt': 'object',\n",
    "        'surveyor.address_utf8_txt': 'object',\n",
    "        'efferv_usda.a479_class': 'object',\n",
    "        'scan.mir.date.begin_iso.8601_yyyy.mm.dd': 'object',\n",
    "        'scan.mir.date.end_iso.8601_yyyy.mm.dd': 'object',\n",
    "        'scan.mir.model.name_utf8_txt': 'object',\n",
    "        'scan.mir.model.code_any_txt': 'object',\n",
    "        'scan.mir.method.optics_any_txt': 'object',\n",
    "        'scan.mir.method.preparation_any_txt': 'object',\n",
    "        'scan.mir.license.title_ascii_txt': 'object',\n",
    "        'scan.mir.license.address_idn_url': 'object',\n",
    "        'scan.mir.doi_idf_url': 'object',\n",
    "        'scan.mir.contact.name_utf8_txt': 'object',\n",
    "        'scan.mir.contact.email_ietf_txt': 'object',\n",
    "        'scan.visnir.date.begin_iso.8601_yyyy.mm.dd': 'object',\n",
    "        'scan.visnir.date.end_iso.8601_yyyy.mm.dd': 'object',\n",
    "        'scan.visnir.model.name_utf8_txt': 'object',\n",
    "        'scan.visnir.model.code_any_txt': 'object',\n",
    "        'scan.visnir.method.optics_any_txt': 'object',\n",
    "        'scan.visnir.method.preparation_any_txt': 'object',\n",
    "        'scan.visnir.license.title_ascii_txt': 'object',\n",
    "        'scan.visnir.license.address_idn_url': 'object',\n",
    "        'scan.visnir.doi_idf_url': 'object',\n",
    "        'scan.visnir.contact.name_utf8_txt': 'object',\n",
    "        'scan.visnir.contact.email_ietf_txt': 'object'\n",
    "    }\n",
    "\n",
    "    def __init__(self, \n",
    "                 fname: Path = Path.home() / '.lssm/data/ossl/ossl_all_L0_v1.2.csv.gz', # Data source file name\n",
    "                 cfgs: dict = None): # Spectra type configuration\n",
    "        self.fname = fname\n",
    "        self.df = None\n",
    "        self.ds_name_encoder = LabelEncoder()\n",
    "        self.cfgs = cfgs or {\n",
    "            'visnir': {'ref_col': 'scan_visnir.1500_ref', 'range': [400, 2500]},\n",
    "            'mir': {'ref_col': 'scan_mir.1500_abs', 'range': [650, 4000]}\n",
    "        }\n"
   ]
  },
  {
   "cell_type": "code",
   "execution_count": null,
   "metadata": {},
   "outputs": [],
   "source": [
    "@patch\n",
    "def load_data(self:OSSLLoader, \n",
    "                analytes: str|list, # Analytes of interest\n",
    "                spectra_type: str = 'visnir', # Spectra type\n",
    "                debug: bool = False # Debug mode\n",
    "                ) -> tuple: # Return a tuple of the form (X, y, X_names, smp_idx, ds_name, ds_label)\n",
    "    \"Load OSSL data and filter it by spectra type and analytes of interest.\"\n",
    "    print(f'Loading data from {self.fname} ...')\n",
    "    self.df = pd.read_csv(self.fname, dtype=self.DTYPE_DICT,\n",
    "                            compression='infer', low_memory=True)\n",
    "\n",
    "    if debug:\n",
    "        return self.df\n",
    "\n",
    "    analytes = [analytes] if isinstance(analytes, str) else analytes\n",
    "    subset = analytes + [self.cfgs[spectra_type]['ref_col']]\n",
    "    self.df = self.df.dropna(subset=subset, how='any')\n",
    "\n",
    "    X, X_names = self._get_spectra(spectra_type)\n",
    "    y = self.df[analytes].values\n",
    "    smp_idx = self.df['id.layer_uuid_txt'].values\n",
    "    ds_name = self._encode_dataset_names()\n",
    "\n",
    "    return X, y, X_names, smp_idx, ds_name, self.ds_name_encoder.classes_"
   ]
  },
  {
   "cell_type": "code",
   "execution_count": null,
   "metadata": {},
   "outputs": [],
   "source": [
    "@patch\n",
    "def _get_spectra(self:OSSLLoader, \n",
    "                    spectra_type: str # Spectra type\n",
    "                    ):\n",
    "    cols_ref = [name for name in self.df.columns if f'scan_{spectra_type}.' in name]\n",
    "    X = self.df[cols_ref].values\n",
    "    X_names = self._get_wavelengths(spectra_type)\n",
    "    lower_limit, upper_limit = self.cfgs[spectra_type]['range']\n",
    "    idxs = np.where((X_names >= lower_limit) & (X_names <= upper_limit))[0]\n",
    "    return X[:, idxs], X_names[idxs]"
   ]
  },
  {
   "cell_type": "code",
   "execution_count": null,
   "metadata": {},
   "outputs": [],
   "source": [
    "@patch\n",
    "def _encode_dataset_names(self:OSSLLoader):\n",
    "    return self.ds_name_encoder.fit_transform(self.df['dataset.code_ascii_txt'])"
   ]
  },
  {
   "cell_type": "code",
   "execution_count": null,
   "metadata": {},
   "outputs": [],
   "source": [
    "@patch\n",
    "def _get_wavelengths(self:OSSLLoader, \n",
    "                        spectra_type: str # Spectra type\n",
    "                        ):\n",
    "    pattern = r\"scan_{}\\.(\\d+)_\".format(spectra_type)\n",
    "    return np.array([int(re.search(pattern, name).group(1)) for name in self.df.columns\n",
    "                        if re.search(pattern, name)])"
   ]
  },
  {
   "cell_type": "markdown",
   "metadata": {},
   "source": [
    "\n",
    "Usage example:"
   ]
  },
  {
   "cell_type": "code",
   "execution_count": null,
   "metadata": {},
   "outputs": [
    {
     "name": "stdout",
     "output_type": "stream",
     "text": [
      "Loading data from /Users/franckalbinet/.lssm/data/ossl/ossl_all_L0_v1.2.csv.gz ...\n",
      "X shape: (57674, 1676)\n",
      "y shape: (57674, 1)\n",
      "wavenumbers: [ 650  652  654 ... 3996 3998 4000]\n",
      "smp_idx: ['3998362dd2659e2252cd7f38b43c9b1f' '2bab4dbbac073b8648475ad50d40eb95'\n",
      " '29213d2193232be8867d85dec463ec00' ... 'b790da349d49885c5727a2b5fd67b13d'\n",
      " 'a057a7ead9eebce24d4039de7fd5e01b' '80bf4a0dc30f60552a38193d5c09b9cd']\n",
      "ds_name: [0 0 0 ... 3 3 3]\n",
      "ds_label: ['GARRETT.SSL' 'ICRAF.ISRIC' 'KSSL.SSL' 'LUCAS.WOODWELL.SSL']\n"
     ]
    }
   ],
   "source": [
    "#| eval: false\n",
    "loader = OSSLLoader()\n",
    "analytes = 'k.ext_usda.a725_cmolc.kg'\n",
    "X, y, wavenumbers, smp_idx, ds_name, ds_label = loader.load_data(analytes, \n",
    "                                                                 spectra_type='mir')\n",
    "\n",
    "print(f'X shape: {X.shape}')\n",
    "print(f'y shape: {y.shape}')\n",
    "print(f'wavenumbers: {wavenumbers}')\n",
    "print(f'smp_idx: {smp_idx}')\n",
    "print(f'ds_name: {ds_name}')\n",
    "print(f'ds_label: {ds_label}')"
   ]
  },
  {
   "cell_type": "code",
   "execution_count": null,
   "metadata": {},
   "outputs": [],
   "source": [
    "#| eval: false\n",
    "#| hide\n",
    "# For further testing, we save the first 10 samples of the dataset\n",
    "n_samples = 10\n",
    "fc.save_pickle('./files/spectrum-and-all.pkl', (X[:n_samples,:], y[:n_samples], wavenumbers, smp_idx[:n_samples], \n",
    "                                                ds_name[:n_samples], ds_label[:n_samples]))"
   ]
  },
  {
   "cell_type": "code",
   "execution_count": null,
   "metadata": {},
   "outputs": [],
   "source": [
    "#| hide\n",
    "# class FukushimaLoader:\n",
    "# fname_fuku = '../_data/fk/Fukushimaall_Average.csv'\n",
    "#| eval: false\n",
    "# df_fuk = pd.read_csv(fname_fuku)\n",
    "#| eval: false\n",
    "# wn_cols = [col for col in df_fuk.columns if col.isdigit()]\n",
    "# non_wn_cols = [col for col in df_fuk.columns if col not in wn_cols]\n",
    "# print(wn_cols[:10])\n",
    "# print(f'from {wn_cols[0]} to {wn_cols[-1]}')\n",
    "#| eval: false\n",
    "# df_fuk[non_wn_cols].columns\n",
    "\n",
    "#| eval: false\n",
    "# df_fuk[['soil_ex_K2O']]"
   ]
  },
  {
   "cell_type": "code",
   "execution_count": null,
   "metadata": {},
   "outputs": [],
   "source": [
    "#| exports\n",
    "src_dir_rt = Path.home() / 'pro/data/woodwell-ringtrial/drive-download-20231013T123706Z-001'"
   ]
  },
  {
   "cell_type": "code",
   "execution_count": null,
   "metadata": {},
   "outputs": [],
   "source": [
    "#| exports\n",
    "class RingtrialLoader:\n",
    "    \"Load Ringtrial data.\"\n",
    "    def __init__(self, \n",
    "                 src_dir: Path = src_dir_rt, # Source directory\n",
    "                 fname_mir: str = 'RT_STD_allMIRspectra_raw.csv',\n",
    "                 fname_wetchem: str = 'RT_wetchem_soildata.csv',\n",
    "                 target: str = 'potassium_cmolkg'\n",
    "                 ): # Spectra type configuration\n",
    "        fc.store_attr()\n",
    "        self.ds_name_encoder = LabelEncoder()\n",
    "        \n",
    "    def load_mir(self):\n",
    "        fname = self.src_dir / self.fname_mir\n",
    "        return pd.read_csv(fname)\n",
    "    \n",
    "    def load_wetchem(self):\n",
    "        fname = self.src_dir / self.fname_wetchem\n",
    "        return pd.read_csv(fname)\n",
    "    \n",
    "    \n",
    "    def separate_spectra_and_others(self, df_merged: pd.DataFrame) -> tuple:\n",
    "        \"Separate the merged dataframe into spectral data and metadata.\"\n",
    "        spectral_cols = [col for col in df_merged.columns if col.isdigit()]\n",
    "        metadata_cols = [col for col in df_merged.columns if not col.isdigit()]\n",
    "        df_spectra = df_merged[spectral_cols]\n",
    "        df_others = df_merged[metadata_cols]\n",
    "        return df_spectra, df_others\n",
    "    \n",
    "    def make_idx(self, df: pd.DataFrame) -> pd.DataFrame:\n",
    "        \"Make a unique index for the samples.\"\n",
    "        return (df['source'] + '-' + df['sample_id']).str.lower().str.replace('_', '-')\n",
    "    \n",
    "    def _encode_dataset_names(self, df: pd.DataFrame):\n",
    "        return self.ds_name_encoder.fit_transform(df)\n",
    "\n",
    "    def load_data(self) -> tuple:\n",
    "        \"Load Ringtrial data and return (X, y, X_names, smp_idx, ds_name, ds_label).\"\n",
    "        df_merged = pd.merge(self.load_mir(), \n",
    "                            self.load_wetchem().rename(columns={'\\tsample_id': 'sample_id'}),\n",
    "                            on='sample_id', how='inner')\n",
    "        \n",
    "        df_spectra, df_others = self.separate_spectra_and_others(df_merged)\n",
    "        \n",
    "        X = df_spectra.values\n",
    "        y = df_others[self.target].values\n",
    "        X_names = df_spectra.columns.astype(int).values\n",
    "        smp_idx = self.make_idx(df_others).values\n",
    "        ds_name = self._encode_dataset_names(df_others['organization'])\n",
    "        \n",
    "        return X, y, X_names, smp_idx, ds_name, self.ds_name_encoder.classes_"
   ]
  },
  {
   "cell_type": "code",
   "execution_count": null,
   "metadata": {},
   "outputs": [
    {
     "name": "stdout",
     "output_type": "stream",
     "text": [
      "X shape: (1400, 1676)\n",
      "y shape: (1400,)\n",
      "wavenumbers: ['650' '652' '654' ... '3996' '3998' '4000']\n",
      "smp_idx: ['kssl-rt-01' 'kssl-rt-02' 'kssl-rt-03' ... 'napt-rt-68' 'napt-rt-69'\n",
      " 'napt-rt-70']\n",
      "ds_name: [ 0  0  0 ... 19 19 19]\n",
      "ds_label: ['Agrocares' 'Argonne' 'CSU_IL' 'ETH_alpha_1' 'ETH_alpha_2' 'ETH_vertex'\n",
      " 'IAEA_aug2022' 'KSSL' 'LandCare' 'Lesotho' 'MSU' 'OSU' 'Rothamsted'\n",
      " 'Scion' 'UGhent' 'UIUC' 'USP' 'UWisc_fine' 'Woodwell_alpha'\n",
      " 'Woodwell_vertex']\n"
     ]
    }
   ],
   "source": [
    "#| eval: false\n",
    "X, y, X_names, smp_idx, ds_name, ds_label = RingtrialLoader().load_data()\n",
    "\n",
    "print(f'X shape: {X.shape}')\n",
    "print(f'y shape: {y.shape}')\n",
    "print(f'wavenumbers: {wavenumbers}')\n",
    "print(f'smp_idx: {smp_idx}')\n",
    "print(f'ds_name: {ds_name}')\n",
    "print(f'ds_label: {ds_label}')"
   ]
  }
 ],
 "metadata": {
  "kernelspec": {
   "display_name": "python3",
   "language": "python",
   "name": "python3"
  }
 },
 "nbformat": 4,
 "nbformat_minor": 4
}
