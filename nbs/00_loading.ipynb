{
 "cells": [
  {
   "cell_type": "markdown",
   "metadata": {},
   "source": [
    "# Loading\n",
    "\n",
    "> Load data from spectral libraries."
   ]
  },
  {
   "cell_type": "code",
   "execution_count": null,
   "metadata": {},
   "outputs": [],
   "source": [
    "#| default_exp loading"
   ]
  },
  {
   "cell_type": "code",
   "execution_count": null,
   "metadata": {},
   "outputs": [],
   "source": [
    "#| export\n",
    "import fastcore.all as fc\n",
    "import pandas as pd\n",
    "from pathlib import Path\n",
    "from sklearn.preprocessing import LabelEncoder\n",
    "import numpy as np\n",
    "import re"
   ]
  },
  {
   "cell_type": "code",
   "execution_count": null,
   "metadata": {},
   "outputs": [],
   "source": [
    "#| exports\n",
    "fname_ossl = Path.home() / '.lssm/data/ossl/ossl_all_L0_v1.2.csv.gz'"
   ]
  },
  {
   "cell_type": "code",
   "execution_count": null,
   "metadata": {},
   "outputs": [],
   "source": [
    "#| exports\n",
    "class OSSLLoader:\n",
    "    \"Load OSSL data and filter it by spectra type and analytes of interest.\"\n",
    "    CFGS = {\n",
    "        'visnir': {'ref_col': 'scan_visnir.1500_ref', 'range': [400, 2500]},\n",
    "        'mir': {'ref_col': 'scan_mir.1500_abs', 'range': [600, 4000]}\n",
    "    }\n",
    "    \n",
    "    DTYPE_DICT = {\n",
    "        'id.layer_local_c': 'object',\n",
    "        'id.location_olc_txt': 'object',\n",
    "        'id.dataset.site_ascii_txt': 'object',\n",
    "        'id.scan_local_c': 'object',\n",
    "        'layer.texture_usda_txt': 'object',\n",
    "        'pedon.taxa_usda_txt': 'object',\n",
    "        'horizon.designation_usda_txt': 'object',\n",
    "        'location.country_iso.3166_txt': 'object',\n",
    "        'surveyor.address_utf8_txt': 'object',\n",
    "        'efferv_usda.a479_class': 'object',\n",
    "        'scan.mir.date.begin_iso.8601_yyyy.mm.dd': 'object',\n",
    "        'scan.mir.date.end_iso.8601_yyyy.mm.dd': 'object',\n",
    "        'scan.mir.model.name_utf8_txt': 'object',\n",
    "        'scan.mir.model.code_any_txt': 'object',\n",
    "        'scan.mir.method.optics_any_txt': 'object',\n",
    "        'scan.mir.method.preparation_any_txt': 'object',\n",
    "        'scan.mir.license.title_ascii_txt': 'object',\n",
    "        'scan.mir.license.address_idn_url': 'object',\n",
    "        'scan.mir.doi_idf_url': 'object',\n",
    "        'scan.mir.contact.name_utf8_txt': 'object',\n",
    "        'scan.mir.contact.email_ietf_txt': 'object',\n",
    "        'scan.visnir.date.begin_iso.8601_yyyy.mm.dd': 'object',\n",
    "        'scan.visnir.date.end_iso.8601_yyyy.mm.dd': 'object',\n",
    "        'scan.visnir.model.name_utf8_txt': 'object',\n",
    "        'scan.visnir.model.code_any_txt': 'object',\n",
    "        'scan.visnir.method.optics_any_txt': 'object',\n",
    "        'scan.visnir.method.preparation_any_txt': 'object',\n",
    "        'scan.visnir.license.title_ascii_txt': 'object',\n",
    "        'scan.visnir.license.address_idn_url': 'object',\n",
    "        'scan.visnir.doi_idf_url': 'object',\n",
    "        'scan.visnir.contact.name_utf8_txt': 'object',\n",
    "        'scan.visnir.contact.email_ietf_txt': 'object'\n",
    "    }\n",
    "\n",
    "    def __init__(self, fname: Path = Path.home() / '.lssm/data/ossl/ossl_all_L0_v1.2.csv.gz'):\n",
    "        self.fname = fname\n",
    "        self.df = None\n",
    "        self.ds_name_encoder = LabelEncoder()\n",
    "\n",
    "    def load_data(self, analytes: str|list, spectra_type: str = 'visnir', debug: bool = False):\n",
    "        \"\"\"Load OSSL data and filter it by spectra type and analytes of interest\"\"\"\n",
    "        print(f'Loading data from {self.fname} ...')\n",
    "        self.df = pd.read_csv(self.fname, dtype=self.DTYPE_DICT,\n",
    "                              compression='infer', low_memory=True)\n",
    "\n",
    "        if debug:\n",
    "            return self.df\n",
    "\n",
    "        analytes = [analytes] if isinstance(analytes, str) else analytes\n",
    "        subset = analytes + [self.CFGS[spectra_type]['ref_col']]\n",
    "        self.df = self.df.dropna(subset=subset, how='any')\n",
    "\n",
    "        X = self._get_spectra(spectra_type)\n",
    "        y = self.df[analytes].values\n",
    "        smp_idx = self.df['id.layer_uuid_txt'].values\n",
    "        ds_name = self._encode_dataset_names()\n",
    "        X_names = self._get_wavelengths(spectra_type)\n",
    "\n",
    "        return X, y, X_names, smp_idx, ds_name, self.ds_name_encoder.classes_\n",
    "\n",
    "    def _get_spectra(self, spectra_type: str):\n",
    "        cols_ref = [name for name in self.df.columns if f'scan_{spectra_type}.' in name]\n",
    "        X = self.df[cols_ref].values\n",
    "        lower_limit, upper_limit = self.CFGS[spectra_type]['range']\n",
    "        X_names = self._get_wavelengths(spectra_type)\n",
    "        idxs = np.where((X_names >= lower_limit) & (X_names <= upper_limit))[0]\n",
    "        return X[:, idxs]\n",
    "\n",
    "    def _encode_dataset_names(self):\n",
    "        return self.ds_name_encoder.fit_transform(self.df['dataset.code_ascii_txt'])\n",
    "\n",
    "    def _get_wavelengths(self, spectra_type: str):\n",
    "        pattern = r\"scan_{}\\.(\\d+)_\".format(spectra_type)\n",
    "        return np.array([int(re.search(pattern, name).group(1)) for name in self.df.columns\n",
    "                         if re.search(pattern, name)])"
   ]
  },
  {
   "cell_type": "markdown",
   "metadata": {},
   "source": [
    "\n",
    "Usage example:"
   ]
  },
  {
   "cell_type": "code",
   "execution_count": null,
   "metadata": {},
   "outputs": [
    {
     "name": "stdout",
     "output_type": "stream",
     "text": [
      "Loading data from /Users/franckalbinet/.lssm/data/ossl/ossl_all_L0_v1.2.csv.gz ...\n",
      "X shape: (57674, 1701)\n",
      "y shape: (57674, 1)\n",
      "wavenumbers: [ 600  602  604 ... 3996 3998 4000]\n",
      "smp_idx: ['3998362dd2659e2252cd7f38b43c9b1f' '2bab4dbbac073b8648475ad50d40eb95'\n",
      " '29213d2193232be8867d85dec463ec00' ... 'b790da349d49885c5727a2b5fd67b13d'\n",
      " 'a057a7ead9eebce24d4039de7fd5e01b' '80bf4a0dc30f60552a38193d5c09b9cd']\n",
      "ds_name: [0 0 0 ... 3 3 3]\n",
      "ds_label: ['GARRETT.SSL' 'ICRAF.ISRIC' 'KSSL.SSL' 'LUCAS.WOODWELL.SSL']\n"
     ]
    }
   ],
   "source": [
    "#| eval: false\n",
    "loader = OSSLLoader()\n",
    "analytes = 'k.ext_usda.a725_cmolc.kg'\n",
    "X, y, wavenumbers, smp_idx, ds_name, ds_label = loader.load_data(analytes, \n",
    "                                                                 spectra_type='mir')\n",
    "\n",
    "print(f'X shape: {X.shape}')\n",
    "print(f'y shape: {y.shape}')\n",
    "print(f'wavenumbers: {wavenumbers}')\n",
    "print(f'smp_idx: {smp_idx}')\n",
    "print(f'ds_name: {ds_name}')\n",
    "print(f'ds_label: {ds_label}')"
   ]
  },
  {
   "cell_type": "code",
   "execution_count": null,
   "metadata": {},
   "outputs": [],
   "source": [
    "#| eval: false\n",
    "#| hide\n",
    "# For further testing, we save the first 10 samples of the dataset\n",
    "n_samples = 10\n",
    "fc.save_pickle('./files/spectrum-and-all.pkl', (X[:n_samples,:], y[:n_samples], wavenumbers, smp_idx[:n_samples], \n",
    "                                                ds_name[:n_samples], ds_label[:n_samples]))"
   ]
  }
 ],
 "metadata": {
  "kernelspec": {
   "display_name": "python3",
   "language": "python",
   "name": "python3"
  }
 },
 "nbformat": 4,
 "nbformat_minor": 4
}
