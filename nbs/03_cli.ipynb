{
 "cells": [
  {
   "cell_type": "markdown",
   "metadata": {},
   "source": [
    "# Command Line Interface\n",
    "\n",
    "> Convert spectra to wavelet images.\n"
   ]
  },
  {
   "cell_type": "code",
   "execution_count": null,
   "metadata": {},
   "outputs": [],
   "source": [
    "#| default_exp cli"
   ]
  },
  {
   "cell_type": "code",
   "execution_count": null,
   "metadata": {},
   "outputs": [],
   "source": [
    "#| export\n",
    "from fastcore.script import *\n",
    "import numpy as np\n",
    "from uhina.wavelets import (\n",
    "    convert_to_wavelet_images, \n",
    "    create_image_target_csv, \n",
    "    estimate_percentiles)\n",
    "from sklearn.pipeline import Pipeline\n",
    "from uhina.preprocessing import SNV, TakeDerivative\n",
    "from uhina.loading import OSSLLoader\n",
    "from pathlib import Path"
   ]
  },
  {
   "cell_type": "code",
   "execution_count": null,
   "metadata": {},
   "outputs": [],
   "source": [
    "#| exports\n",
    "@call_parse\n",
    "def main(\n",
    "    src: str, # Source file\n",
    "    dir_out: str, # Output root directory\n",
    "    img_dir: str='img', # Image directory\n",
    "    dataset: str='ossl', # Dataset to use\n",
    "    spectra_type:str='mir', # Spectra type to use\n",
    "    analytes: str='k.ext_usda.a725_cmolc.kg', # Analytes to use\n",
    "    n_samples: int=None, # Number of samples to use\n",
    "    batch_size: int=10, # Batch size to use\n",
    "    # n_percentile_estimate: int=1000, # Number of samples to use to estimate percentiles\n",
    "    ):\n",
    "    \"Convert spectra to wavelet images.\"\n",
    "    \n",
    "    if dataset == 'ossl':\n",
    "        loader = OSSLLoader()\n",
    "        analytes = 'k.ext_usda.a725_cmolc.kg'\n",
    "        X, y, wavenumbers, smp_idx, ds_name, ds_label = loader.load_data(analytes, \n",
    "                                                                         spectra_type='mir')\n",
    "    else:\n",
    "        raise ValueError(f\"Dataset {dataset} not supported yet ...\")\n",
    "    \n",
    "    # Preprocessing pipeline\n",
    "    pipe = Pipeline([\n",
    "        ('SNV', SNV()),\n",
    "        ('Derivative', TakeDerivative())\n",
    "    ])\n",
    "    X_trans = pipe.fit_transform(X)\n",
    "    \n",
    "    print(f'Creating image target csv in {dir_out} ...')\n",
    "    create_image_target_csv(smp_idx, y, n_samples=n_samples, output_dir=dir_out)  \n",
    "    \n",
    "    print(f'Creating wavelet images in {dir_out} ...')\n",
    "    convert_to_wavelet_images(X_trans, smp_idx, wavenumbers, \n",
    "                              output_dir=Path(dir_out)/img_dir, \n",
    "                            #   plot_kwargs={'levels': percentiles_result},\n",
    "                              n_samples=n_samples, batch_size=batch_size)"
   ]
  },
  {
   "cell_type": "code",
   "execution_count": null,
   "metadata": {},
   "outputs": [],
   "source": []
  }
 ],
 "metadata": {
  "kernelspec": {
   "display_name": "python3",
   "language": "python",
   "name": "python3"
  }
 },
 "nbformat": 4,
 "nbformat_minor": 4
}
