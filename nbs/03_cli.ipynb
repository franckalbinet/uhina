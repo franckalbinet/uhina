{
 "cells": [
  {
   "cell_type": "markdown",
   "metadata": {},
   "source": [
    "# Command Line Interface\n",
    "\n",
    "> Convert spectra to wavelet images.\n"
   ]
  },
  {
   "cell_type": "code",
   "execution_count": null,
   "metadata": {},
   "outputs": [],
   "source": [
    "#| default_exp cli"
   ]
  },
  {
   "cell_type": "code",
   "execution_count": null,
   "metadata": {},
   "outputs": [],
   "source": [
    "#| export\n",
    "from fastcore.script import *\n",
    "import yaml\n",
    "from pathlib import Path\n",
    "from typing import Optional, List\n",
    "\n",
    "import numpy as np\n",
    "from uhina.wavelets import (\n",
    "    convert_to_wavelet_images, \n",
    "    create_image_target_csv, \n",
    "    estimate_percentiles)\n",
    "from sklearn.pipeline import Pipeline\n",
    "from uhina.preprocessing import SNV, TakeDerivative\n",
    "from uhina.loading import LoaderFactory"
   ]
  },
  {
   "cell_type": "code",
   "execution_count": null,
   "metadata": {},
   "outputs": [],
   "source": [
    "#| exports\n",
    "@call_parse\n",
    "def main(\n",
    "    config: Path, # Path to the configuration file\n",
    "    ):\n",
    "    \"Convert spectra to wavelet images using configuration from a file.\"\n",
    "    \n",
    "    cfg = load_config(config)\n",
    "    params = extract_params(cfg)\n",
    "    \n",
    "    loader = get_loader(params)\n",
    "    X, y, wavenumbers, smp_idx, ds_name, ds_label = loader.load_data(params['analytes'])\n",
    "    \n",
    "    X_trans = preprocess_data(X)\n",
    "    \n",
    "    create_output_files(X_trans, y, wavenumbers, smp_idx, params)"
   ]
  },
  {
   "cell_type": "code",
   "execution_count": null,
   "metadata": {},
   "outputs": [],
   "source": [
    "#| exports\n",
    "def load_config(config_path: Path) -> dict:\n",
    "    \"Load the configuration from a YAML file.\"\n",
    "    with open(config_path, 'r') as f:\n",
    "        return yaml.safe_load(f)"
   ]
  },
  {
   "cell_type": "code",
   "execution_count": null,
   "metadata": {},
   "outputs": [],
   "source": [
    "#| exports\n",
    "def extract_params(cfg: dict) -> dict:\n",
    "    \"Extract parameters from the configuration.\"\n",
    "    return {\n",
    "        'src': cfg['src'],\n",
    "        'dir_out': cfg['dir_out'],\n",
    "        'img_dir': cfg.get('img_dir', 'im'),\n",
    "        'dataset': cfg.get('dataset', 'ossl'),\n",
    "        'spectra_type': cfg.get('spectra_type', 'mir'),\n",
    "        'analytes': cfg.get('analytes', 'k.ext_usda.a725_cmolc.kg'),\n",
    "        'n_samples': cfg.get('n_samples'),\n",
    "        'batch_size': cfg.get('batch_size', 10)\n",
    "    }"
   ]
  },
  {
   "cell_type": "code",
   "execution_count": null,
   "metadata": {},
   "outputs": [],
   "source": [
    "#| exports\n",
    "def get_loader(params: dict):\n",
    "    \"Get the loader from the parameters.\"\n",
    "    loader_kwargs = {'spectra_type': params['spectra_type']} if params['dataset'] == 'ossl' else {}\n",
    "    return LoaderFactory.get_loader(params['src'], params['dataset'], **loader_kwargs)"
   ]
  },
  {
   "cell_type": "code",
   "execution_count": null,
   "metadata": {},
   "outputs": [],
   "source": [
    "#| exports\n",
    "def preprocess_data(X):\n",
    "    \"Preprocess the data.\"\n",
    "    pipe = Pipeline([\n",
    "        ('SNV', SNV()),\n",
    "        ('Derivative', TakeDerivative())\n",
    "    ])\n",
    "    return pipe.fit_transform(X)"
   ]
  },
  {
   "cell_type": "code",
   "execution_count": null,
   "metadata": {},
   "outputs": [],
   "source": [
    "#| exports\n",
    "def create_output_files(X_trans, y, wavenumbers, smp_idx, params):\n",
    "    \"Create the output files.\"\n",
    "    print(f'Creating image target csv in {params[\"dir_out\"]} ...')\n",
    "    create_image_target_csv(smp_idx, y, n_samples=params['n_samples'], output_dir=params['dir_out'])  \n",
    "    \n",
    "    print(f'Creating wavelet images in {Path(params[\"dir_out\"])/params[\"img_dir\"]} ...')\n",
    "    convert_to_wavelet_images(X_trans, smp_idx, wavenumbers, \n",
    "                              output_dir=Path(params['dir_out'])/params['img_dir'], \n",
    "                              n_samples=params['n_samples'], batch_size=params['batch_size'])"
   ]
  }
 ],
 "metadata": {
  "kernelspec": {
   "display_name": "python3",
   "language": "python",
   "name": "python3"
  }
 },
 "nbformat": 4,
 "nbformat_minor": 4
}
